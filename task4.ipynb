{
 "cells": [
  {
   "cell_type": "markdown",
   "source": [
    "## Importing libraries"
   ],
   "metadata": {
    "collapsed": false
   }
  },
  {
   "cell_type": "code",
   "execution_count": 8,
   "outputs": [],
   "source": [
    "from gsppy.gsp import GSP\n",
    "import pandas as pd\n"
   ],
   "metadata": {
    "collapsed": false,
    "pycharm": {
     "name": "#%%\n"
    }
   }
  },
  {
   "cell_type": "markdown",
   "source": [
    "## Loading the data set\n",
    "\n",
    "Get indexes of customers filtered after task 1"
   ],
   "metadata": {
    "collapsed": false
   }
  },
  {
   "cell_type": "code",
   "execution_count": 14,
   "outputs": [
    {
     "name": "stdout",
     "output_type": "stream",
     "text": [
      "4171\n"
     ]
    }
   ],
   "source": [
    "customer_indexes = pd.read_csv('data/new_df.csv', index_col=0, decimal='.').index.tolist()\n",
    "df = pd.read_csv('data/clean_df.csv', index_col=0, decimal='.')\n",
    "\n",
    "df = df[df['CustomerID'].isin(customer_indexes)]"
   ],
   "metadata": {
    "collapsed": false,
    "pycharm": {
     "name": "#%%\n"
    }
   }
  },
  {
   "cell_type": "markdown",
   "source": [
    "Model customers as sequence of baskets, as requested by the GSP implementation.\n",
    "\n",
    "For reference: https://github.com/jacksonpradolima/gsp-py"
   ],
   "metadata": {
    "collapsed": false
   }
  },
  {
   "cell_type": "code",
   "execution_count": 10,
   "outputs": [
    {
     "name": "stdout",
     "output_type": "stream",
     "text": [
      "Number of transactions:  14929\n"
     ]
    }
   ],
   "source": [
    "df_grouped = df.groupby(['BasketID'])['ProdDescr'].apply(list)\n",
    "baskets = df_grouped.values.tolist()\n",
    "\n",
    "print(\"Number of transactions: \", len(baskets))"
   ],
   "metadata": {
    "collapsed": false,
    "pycharm": {
     "name": "#%%\n"
    }
   }
  },
  {
   "cell_type": "markdown",
   "source": [
    "Due to computational costs, we decided to filter some baskets depending\n",
    "on their length. The boundaries were inferred by the *mean* and *standard deviation*\n",
    "on the `Imax` attribute defined for task 1."
   ],
   "metadata": {
    "collapsed": false,
    "pycharm": {
     "name": "#%% md\n"
    }
   }
  },
  {
   "cell_type": "code",
   "execution_count": 11,
   "outputs": [
    {
     "name": "stdout",
     "output_type": "stream",
     "text": [
      "Number of filtered baskets: 11229\n"
     ]
    }
   ],
   "source": [
    "filtered_baskets = []\n",
    "for b in baskets:\n",
    "    if 6 < len(b) < 80:\n",
    "        filtered_baskets.append(b)\n",
    "\n",
    "print(\"Number of filtered baskets:\", len(filtered_baskets))"
   ],
   "metadata": {
    "collapsed": false,
    "pycharm": {
     "name": "#%%\n"
    }
   }
  },
  {
   "cell_type": "markdown",
   "source": [
    "## Perform GSP\n",
    "\n",
    "Results are printed into the `results.txt` file, because the output is too long\n",
    "to be printed on the notebook."
   ],
   "metadata": {
    "collapsed": false,
    "pycharm": {
     "name": "#%% md\n"
    }
   }
  },
  {
   "cell_type": "code",
   "execution_count": 13,
   "outputs": [
    {
     "name": "stdout",
     "output_type": "stream",
     "text": [
      "Minimum support: 78\n"
     ]
    }
   ],
   "source": [
    "minsup = 0.007\n",
    "minsup_count = len(filtered_baskets) * minsup\n",
    "\n",
    "print(\"Minimum support:\", int(minsup_count))\n",
    "\n",
    "# this operation requires hours of computation!!!\n",
    "resultGSP = GSP(filtered_baskets).search(minsup)\n",
    "\n",
    "with open('results.txt', 'w') as f:\n",
    "    print(resultGSP, file=f)\n",
    "\n",
    "\n"
   ],
   "metadata": {
    "collapsed": false,
    "pycharm": {
     "name": "#%%\n"
    }
   }
  }
 ],
 "metadata": {
  "kernelspec": {
   "display_name": "Python 3",
   "language": "python",
   "name": "python3"
  },
  "language_info": {
   "codemirror_mode": {
    "name": "ipython",
    "version": 3
   },
   "file_extension": ".py",
   "mimetype": "text/x-python",
   "name": "python",
   "nbconvert_exporter": "python",
   "pygments_lexer": "ipython3",
   "version": "3.8.3"
  }
 },
 "nbformat": 4,
 "nbformat_minor": 1
}